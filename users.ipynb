{
 "cells": [
  {
   "cell_type": "code",
   "execution_count": 1,
   "metadata": {
    "collapsed": true,
    "ExecuteTime": {
     "end_time": "2023-05-01T11:25:11.142742Z",
     "start_time": "2023-05-01T11:25:11.133487Z"
    }
   },
   "outputs": [
    {
     "data": {
      "text/plain": "'[\\n  {\\n    \"id\": 0,\\n    \"firstName\": \"andrey\",\\n    \"lastName\": \"pisarev\",\\n    \"age\": 20,\\n    \"weight\": 92,\\n    \"height\": 181,\\n    \"gender\": \"Male\"\\n  },\\n  {\\n    \"id\": 1,\\n    \"firstName\": \"stas\",\\n    \"lastName\": \"stepanov\",\\n    \"age\": 24,\\n    \"weight\": 92,\\n    \"height\": 190,\\n    \"gender\": \"Male\"\\n  },\\n  {\\n    \"id\": 2,\\n    \"firstName\": \"a\",\\n    \"lastName\": \"a\",\\n    \"age\": 18,\\n    \"weight\": 72,\\n    \"height\": 185,\\n    \"gender\": \"Male\"\\n  },\\n  {\\n    \"id\": 3,\\n    \"firstName\": \"b\",\\n    \"lastName\": \"b\",\\n    \"age\": 18,\\n    \"weight\": 65,\\n    \"height\": 177,\\n    \"gender\": \"Male\"\\n  },\\n  {\\n    \"id\": 4,\\n    \"firstName\": \"c\",\\n    \"lastName\": \"c\",\\n    \"age\": 17,\\n    \"weight\": 100,\\n    \"height\": 193,\\n    \"gender\": \"Male\"\\n  },\\n  {\\n    \"id\": 5,\\n    \"firstName\": \"d\",\\n    \"lastName\": \"d\",\\n    \"age\": 18,\\n    \"weight\": 48,\\n    \"height\": 165,\\n    \"gender\": \"Female\"\\n  },\\n  {\\n    \"id\": 6,\\n    \"firstName\": \"e\",\\n    \"lastName\": \"e\",\\n    \"age\": 18,\\n    \"weight\": 0,\\n    \"height\": 175,\\n    \"gender\": \"Female\"\\n  },\\n  {\\n    \"id\": 7,\\n    \"firstName\": \"k\",\\n    \"lastName\": \"k\",\\n    \"age\": 18,\\n    \"weight\": 64,\\n    \"height\": 184,\\n    \"gender\": \"Male\"\\n  },\\n  {\\n    \"id\": 8,\\n    \"firstName\": \"m\",\\n    \"lastName\": \"m\",\\n    \"age\": 18,\\n    \"weight\": 72,\\n    \"height\": 178,\\n    \"gender\": \"Male\"\\n  },\\n  {\\n    \"id\": 9,\\n    \"firstName\": \"n\",\\n    \"lastName\": \"n\",\\n    \"age\": 18,\\n    \"weight\": 69,\\n    \"height\": 175,\\n    \"gender\": \"Male\"\\n  },\\n  {\\n    \"id\": 10,\\n    \"firstName\": \"o\",\\n    \"lastName\": \"o\",\\n    \"age\": 20,\\n    \"weight\": 67,\\n    \"height\": 183,\\n    \"gender\": \"Male\"\\n  },\\n  {\\n    \"id\": 11,\\n    \"firstName\": \"p\",\\n    \"lastName\": \"p\",\\n    \"age\": 18,\\n    \"weight\": 93,\\n    \"height\": 170,\\n    \"gender\": \"Male\"\\n  },\\n  {\\n    \"id\": 12,\\n    \"firstName\": \"r\",\\n    \"lastName\": \"r\",\\n    \"age\": 19,\\n    \"weight\": 66,\\n    \"height\": 176,\\n    \"gender\": \"Male\"\\n  },\\n  {\\n    \"id\": 13,\\n    \"firstName\": \"a1\",\\n    \"lastName\": \"a1\",\\n    \"age\": 19,\\n    \"weight\": 60,\\n    \"height\": 172,\\n    \"gender\": \"Male\"\\n  },\\n  {\\n    \"id\": 14,\\n    \"firstName\": \"b1\",\\n    \"lastName\": \"b1\",\\n    \"age\": 19,\\n    \"weight\": 75,\\n    \"height\": 188,\\n    \"gender\": \"Male\"\\n  },\\n  {\\n    \"id\": 15,\\n    \"firstName\": \"c1\",\\n    \"lastName\": \"c1\",\\n    \"age\": 18,\\n    \"weight\": 75,\\n    \"height\": 185,\\n    \"gender\": \"Male\"\\n  },\\n  {\\n    \"id\": 16,\\n    \"firstName\": \"d1\",\\n    \"lastName\": \"d1\",\\n    \"age\": 18,\\n    \"weight\": 60,\\n    \"height\": 185,\\n    \"gender\": \"Male\"\\n  },\\n  {\\n    \"id\": 17,\\n    \"firstName\": \"e1\",\\n    \"lastName\": \"e1\",\\n    \"age\": 19,\\n    \"weight\": 55,\\n    \"height\": 164,\\n    \"gender\": \"Female\"\\n  },\\n  {\\n    \"id\": 18,\\n    \"firstName\": \"f1\",\\n    \"lastName\": \"f1\",\\n    \"age\": 18,\\n    \"weight\": 60,\\n    \"height\": 175,\\n    \"gender\": \"Female\"\\n  }\\n]'"
     },
     "execution_count": 1,
     "metadata": {},
     "output_type": "execute_result"
    }
   ],
   "source": [
    "f = open(\"data/users/users.json\", \"r\")\n",
    "text = f.read()\n",
    "text"
   ]
  },
  {
   "cell_type": "code",
   "execution_count": 2,
   "outputs": [
    {
     "data": {
      "text/plain": "   id firstName  lastName  age  weight  height  gender\n0   0    andrey   pisarev   20      92     181    Male\n0   1      stas  stepanov   24      92     190    Male\n0   2         a         a   18      72     185    Male\n0   3         b         b   18      65     177    Male\n0   4         c         c   17     100     193    Male\n0   5         d         d   18      48     165  Female\n0   6         e         e   18       0     175  Female\n0   7         k         k   18      64     184    Male\n0   8         m         m   18      72     178    Male\n0   9         n         n   18      69     175    Male\n0  10         o         o   20      67     183    Male\n0  11         p         p   18      93     170    Male\n0  12         r         r   19      66     176    Male\n0  13        a1        a1   19      60     172    Male\n0  14        b1        b1   19      75     188    Male\n0  15        c1        c1   18      75     185    Male\n0  16        d1        d1   18      60     185    Male\n0  17        e1        e1   19      55     164  Female\n0  18        f1        f1   18      60     175  Female",
      "text/html": "<div>\n<style scoped>\n    .dataframe tbody tr th:only-of-type {\n        vertical-align: middle;\n    }\n\n    .dataframe tbody tr th {\n        vertical-align: top;\n    }\n\n    .dataframe thead th {\n        text-align: right;\n    }\n</style>\n<table border=\"1\" class=\"dataframe\">\n  <thead>\n    <tr style=\"text-align: right;\">\n      <th></th>\n      <th>id</th>\n      <th>firstName</th>\n      <th>lastName</th>\n      <th>age</th>\n      <th>weight</th>\n      <th>height</th>\n      <th>gender</th>\n    </tr>\n  </thead>\n  <tbody>\n    <tr>\n      <th>0</th>\n      <td>0</td>\n      <td>andrey</td>\n      <td>pisarev</td>\n      <td>20</td>\n      <td>92</td>\n      <td>181</td>\n      <td>Male</td>\n    </tr>\n    <tr>\n      <th>0</th>\n      <td>1</td>\n      <td>stas</td>\n      <td>stepanov</td>\n      <td>24</td>\n      <td>92</td>\n      <td>190</td>\n      <td>Male</td>\n    </tr>\n    <tr>\n      <th>0</th>\n      <td>2</td>\n      <td>a</td>\n      <td>a</td>\n      <td>18</td>\n      <td>72</td>\n      <td>185</td>\n      <td>Male</td>\n    </tr>\n    <tr>\n      <th>0</th>\n      <td>3</td>\n      <td>b</td>\n      <td>b</td>\n      <td>18</td>\n      <td>65</td>\n      <td>177</td>\n      <td>Male</td>\n    </tr>\n    <tr>\n      <th>0</th>\n      <td>4</td>\n      <td>c</td>\n      <td>c</td>\n      <td>17</td>\n      <td>100</td>\n      <td>193</td>\n      <td>Male</td>\n    </tr>\n    <tr>\n      <th>0</th>\n      <td>5</td>\n      <td>d</td>\n      <td>d</td>\n      <td>18</td>\n      <td>48</td>\n      <td>165</td>\n      <td>Female</td>\n    </tr>\n    <tr>\n      <th>0</th>\n      <td>6</td>\n      <td>e</td>\n      <td>e</td>\n      <td>18</td>\n      <td>0</td>\n      <td>175</td>\n      <td>Female</td>\n    </tr>\n    <tr>\n      <th>0</th>\n      <td>7</td>\n      <td>k</td>\n      <td>k</td>\n      <td>18</td>\n      <td>64</td>\n      <td>184</td>\n      <td>Male</td>\n    </tr>\n    <tr>\n      <th>0</th>\n      <td>8</td>\n      <td>m</td>\n      <td>m</td>\n      <td>18</td>\n      <td>72</td>\n      <td>178</td>\n      <td>Male</td>\n    </tr>\n    <tr>\n      <th>0</th>\n      <td>9</td>\n      <td>n</td>\n      <td>n</td>\n      <td>18</td>\n      <td>69</td>\n      <td>175</td>\n      <td>Male</td>\n    </tr>\n    <tr>\n      <th>0</th>\n      <td>10</td>\n      <td>o</td>\n      <td>o</td>\n      <td>20</td>\n      <td>67</td>\n      <td>183</td>\n      <td>Male</td>\n    </tr>\n    <tr>\n      <th>0</th>\n      <td>11</td>\n      <td>p</td>\n      <td>p</td>\n      <td>18</td>\n      <td>93</td>\n      <td>170</td>\n      <td>Male</td>\n    </tr>\n    <tr>\n      <th>0</th>\n      <td>12</td>\n      <td>r</td>\n      <td>r</td>\n      <td>19</td>\n      <td>66</td>\n      <td>176</td>\n      <td>Male</td>\n    </tr>\n    <tr>\n      <th>0</th>\n      <td>13</td>\n      <td>a1</td>\n      <td>a1</td>\n      <td>19</td>\n      <td>60</td>\n      <td>172</td>\n      <td>Male</td>\n    </tr>\n    <tr>\n      <th>0</th>\n      <td>14</td>\n      <td>b1</td>\n      <td>b1</td>\n      <td>19</td>\n      <td>75</td>\n      <td>188</td>\n      <td>Male</td>\n    </tr>\n    <tr>\n      <th>0</th>\n      <td>15</td>\n      <td>c1</td>\n      <td>c1</td>\n      <td>18</td>\n      <td>75</td>\n      <td>185</td>\n      <td>Male</td>\n    </tr>\n    <tr>\n      <th>0</th>\n      <td>16</td>\n      <td>d1</td>\n      <td>d1</td>\n      <td>18</td>\n      <td>60</td>\n      <td>185</td>\n      <td>Male</td>\n    </tr>\n    <tr>\n      <th>0</th>\n      <td>17</td>\n      <td>e1</td>\n      <td>e1</td>\n      <td>19</td>\n      <td>55</td>\n      <td>164</td>\n      <td>Female</td>\n    </tr>\n    <tr>\n      <th>0</th>\n      <td>18</td>\n      <td>f1</td>\n      <td>f1</td>\n      <td>18</td>\n      <td>60</td>\n      <td>175</td>\n      <td>Female</td>\n    </tr>\n  </tbody>\n</table>\n</div>"
     },
     "execution_count": 2,
     "metadata": {},
     "output_type": "execute_result"
    }
   ],
   "source": [
    "import json\n",
    "import pandas as pd\n",
    "\n",
    "data_done = []\n",
    "\n",
    "data = json.loads(text)\n",
    "for item in data:\n",
    "    data_done.append(pd.json_normalize(item))\n",
    "\n",
    "pd_users = pd.concat(data_done)\n",
    "pd_users"
   ],
   "metadata": {
    "collapsed": false,
    "ExecuteTime": {
     "start_time": "2023-05-01T12:46:56.903075Z",
     "end_time": "2023-05-01T12:46:59.650044Z"
    }
   }
  },
  {
   "cell_type": "code",
   "execution_count": 3,
   "outputs": [
    {
     "data": {
      "text/plain": "              id        age      weight      height\ncount  19.000000  19.000000   19.000000   19.000000\nmean    9.000000  18.684211   67.631579  179.000000\nstd     5.627314   1.492672   21.530884    8.041559\nmin     0.000000  17.000000    0.000000  164.000000\n25%     4.500000  18.000000   60.000000  175.000000\n50%     9.000000  18.000000   67.000000  178.000000\n75%    13.500000  19.000000   75.000000  185.000000\nmax    18.000000  24.000000  100.000000  193.000000",
      "text/html": "<div>\n<style scoped>\n    .dataframe tbody tr th:only-of-type {\n        vertical-align: middle;\n    }\n\n    .dataframe tbody tr th {\n        vertical-align: top;\n    }\n\n    .dataframe thead th {\n        text-align: right;\n    }\n</style>\n<table border=\"1\" class=\"dataframe\">\n  <thead>\n    <tr style=\"text-align: right;\">\n      <th></th>\n      <th>id</th>\n      <th>age</th>\n      <th>weight</th>\n      <th>height</th>\n    </tr>\n  </thead>\n  <tbody>\n    <tr>\n      <th>count</th>\n      <td>19.000000</td>\n      <td>19.000000</td>\n      <td>19.000000</td>\n      <td>19.000000</td>\n    </tr>\n    <tr>\n      <th>mean</th>\n      <td>9.000000</td>\n      <td>18.684211</td>\n      <td>67.631579</td>\n      <td>179.000000</td>\n    </tr>\n    <tr>\n      <th>std</th>\n      <td>5.627314</td>\n      <td>1.492672</td>\n      <td>21.530884</td>\n      <td>8.041559</td>\n    </tr>\n    <tr>\n      <th>min</th>\n      <td>0.000000</td>\n      <td>17.000000</td>\n      <td>0.000000</td>\n      <td>164.000000</td>\n    </tr>\n    <tr>\n      <th>25%</th>\n      <td>4.500000</td>\n      <td>18.000000</td>\n      <td>60.000000</td>\n      <td>175.000000</td>\n    </tr>\n    <tr>\n      <th>50%</th>\n      <td>9.000000</td>\n      <td>18.000000</td>\n      <td>67.000000</td>\n      <td>178.000000</td>\n    </tr>\n    <tr>\n      <th>75%</th>\n      <td>13.500000</td>\n      <td>19.000000</td>\n      <td>75.000000</td>\n      <td>185.000000</td>\n    </tr>\n    <tr>\n      <th>max</th>\n      <td>18.000000</td>\n      <td>24.000000</td>\n      <td>100.000000</td>\n      <td>193.000000</td>\n    </tr>\n  </tbody>\n</table>\n</div>"
     },
     "execution_count": 3,
     "metadata": {},
     "output_type": "execute_result"
    }
   ],
   "source": [
    "pd_users.describe()"
   ],
   "metadata": {
    "collapsed": false,
    "ExecuteTime": {
     "start_time": "2023-05-01T12:46:59.652554Z",
     "end_time": "2023-05-01T12:46:59.676591Z"
    }
   }
  },
  {
   "cell_type": "code",
   "execution_count": 4,
   "outputs": [
    {
     "data": {
      "text/plain": "   userId exId\n0      15    2\n1       7    5\n2       0    2\n3       8    5\n4       7    4\n..    ...  ...\n76     14    5\n77     17    5\n78      9    4\n79     11    2\n80      6    4\n\n[81 rows x 2 columns]",
      "text/html": "<div>\n<style scoped>\n    .dataframe tbody tr th:only-of-type {\n        vertical-align: middle;\n    }\n\n    .dataframe tbody tr th {\n        vertical-align: top;\n    }\n\n    .dataframe thead th {\n        text-align: right;\n    }\n</style>\n<table border=\"1\" class=\"dataframe\">\n  <thead>\n    <tr style=\"text-align: right;\">\n      <th></th>\n      <th>userId</th>\n      <th>exId</th>\n    </tr>\n  </thead>\n  <tbody>\n    <tr>\n      <th>0</th>\n      <td>15</td>\n      <td>2</td>\n    </tr>\n    <tr>\n      <th>1</th>\n      <td>7</td>\n      <td>5</td>\n    </tr>\n    <tr>\n      <th>2</th>\n      <td>0</td>\n      <td>2</td>\n    </tr>\n    <tr>\n      <th>3</th>\n      <td>8</td>\n      <td>5</td>\n    </tr>\n    <tr>\n      <th>4</th>\n      <td>7</td>\n      <td>4</td>\n    </tr>\n    <tr>\n      <th>...</th>\n      <td>...</td>\n      <td>...</td>\n    </tr>\n    <tr>\n      <th>76</th>\n      <td>14</td>\n      <td>5</td>\n    </tr>\n    <tr>\n      <th>77</th>\n      <td>17</td>\n      <td>5</td>\n    </tr>\n    <tr>\n      <th>78</th>\n      <td>9</td>\n      <td>4</td>\n    </tr>\n    <tr>\n      <th>79</th>\n      <td>11</td>\n      <td>2</td>\n    </tr>\n    <tr>\n      <th>80</th>\n      <td>6</td>\n      <td>4</td>\n    </tr>\n  </tbody>\n</table>\n<p>81 rows × 2 columns</p>\n</div>"
     },
     "execution_count": 4,
     "metadata": {},
     "output_type": "execute_result"
    }
   ],
   "source": [
    "import os\n",
    "import glob\n",
    "\n",
    "json_pattern = os.path.join(\"data/new\", '*.json')\n",
    "file_list = glob.glob(json_pattern)\n",
    "tmp_data = []\n",
    "for file in file_list:\n",
    "    b = file.rpartition(\"/\")[-1]\n",
    "    c = b.split(\"_\")\n",
    "    tmp_data.append({ \"userId\": c[0], \"exId\": c[1]})\n",
    "\n",
    "df = pd.DataFrame.from_dict(tmp_data)\n",
    "df"
   ],
   "metadata": {
    "collapsed": false,
    "ExecuteTime": {
     "start_time": "2023-05-01T12:47:02.469100Z",
     "end_time": "2023-05-01T12:47:02.506934Z"
    }
   }
  },
  {
   "cell_type": "code",
   "execution_count": 5,
   "outputs": [],
   "source": [
    "import matplotlib.pyplot as plt"
   ],
   "metadata": {
    "collapsed": false,
    "ExecuteTime": {
     "start_time": "2023-05-01T12:47:03.525931Z",
     "end_time": "2023-05-01T12:47:04.435147Z"
    }
   }
  },
  {
   "cell_type": "code",
   "execution_count": 6,
   "outputs": [
    {
     "data": {
      "text/plain": "['10', '3', '2023-04-25T10', '05', '00.925811Z.json']"
     },
     "execution_count": 6,
     "metadata": {},
     "output_type": "execute_result"
    }
   ],
   "source": [
    "a = \"data/new/10_3_2023-04-25T10_05_00.925811Z.json\"\n",
    "b = a.rpartition(\"/\")[-1]\n",
    "c = b.split(\"_\")\n",
    "c"
   ],
   "metadata": {
    "collapsed": false,
    "ExecuteTime": {
     "start_time": "2023-05-01T12:47:04.438145Z",
     "end_time": "2023-05-01T12:47:04.441501Z"
    }
   }
  },
  {
   "cell_type": "code",
   "execution_count": 7,
   "outputs": [
    {
     "data": {
      "text/plain": "   userId exId\n0      15    2\n1       7    5\n2       0    2\n3       8    5\n4       7    4\n..    ...  ...\n76     14    5\n77     17    5\n78      9    4\n79     11    2\n80      6    4\n\n[81 rows x 2 columns]",
      "text/html": "<div>\n<style scoped>\n    .dataframe tbody tr th:only-of-type {\n        vertical-align: middle;\n    }\n\n    .dataframe tbody tr th {\n        vertical-align: top;\n    }\n\n    .dataframe thead th {\n        text-align: right;\n    }\n</style>\n<table border=\"1\" class=\"dataframe\">\n  <thead>\n    <tr style=\"text-align: right;\">\n      <th></th>\n      <th>userId</th>\n      <th>exId</th>\n    </tr>\n  </thead>\n  <tbody>\n    <tr>\n      <th>0</th>\n      <td>15</td>\n      <td>2</td>\n    </tr>\n    <tr>\n      <th>1</th>\n      <td>7</td>\n      <td>5</td>\n    </tr>\n    <tr>\n      <th>2</th>\n      <td>0</td>\n      <td>2</td>\n    </tr>\n    <tr>\n      <th>3</th>\n      <td>8</td>\n      <td>5</td>\n    </tr>\n    <tr>\n      <th>4</th>\n      <td>7</td>\n      <td>4</td>\n    </tr>\n    <tr>\n      <th>...</th>\n      <td>...</td>\n      <td>...</td>\n    </tr>\n    <tr>\n      <th>76</th>\n      <td>14</td>\n      <td>5</td>\n    </tr>\n    <tr>\n      <th>77</th>\n      <td>17</td>\n      <td>5</td>\n    </tr>\n    <tr>\n      <th>78</th>\n      <td>9</td>\n      <td>4</td>\n    </tr>\n    <tr>\n      <th>79</th>\n      <td>11</td>\n      <td>2</td>\n    </tr>\n    <tr>\n      <th>80</th>\n      <td>6</td>\n      <td>4</td>\n    </tr>\n  </tbody>\n</table>\n<p>81 rows × 2 columns</p>\n</div>"
     },
     "execution_count": 7,
     "metadata": {},
     "output_type": "execute_result"
    }
   ],
   "source": [
    "df"
   ],
   "metadata": {
    "collapsed": false,
    "ExecuteTime": {
     "start_time": "2023-05-01T12:47:07.258426Z",
     "end_time": "2023-05-01T12:47:07.276869Z"
    }
   }
  },
  {
   "cell_type": "code",
   "execution_count": 7,
   "outputs": [],
   "source": [],
   "metadata": {
    "collapsed": false,
    "ExecuteTime": {
     "start_time": "2023-05-01T12:47:07.855649Z",
     "end_time": "2023-05-01T12:47:07.870992Z"
    }
   }
  },
  {
   "cell_type": "code",
   "execution_count": 8,
   "outputs": [
    {
     "data": {
      "text/plain": "<pandas.core.groupby.generic.DataFrameGroupBy object at 0x7ff45127bb20>"
     },
     "execution_count": 8,
     "metadata": {},
     "output_type": "execute_result"
    }
   ],
   "source": [
    "a = pd_users.groupby(['gender'])\n",
    "a"
   ],
   "metadata": {
    "collapsed": false,
    "ExecuteTime": {
     "start_time": "2023-05-01T12:47:08.300311Z",
     "end_time": "2023-05-01T12:47:08.315135Z"
    }
   }
  },
  {
   "cell_type": "code",
   "execution_count": 9,
   "outputs": [
    {
     "data": {
      "text/plain": "        id  firstName  lastName  age  weight  height\ngender                                              \nFemale   4          4         4    4       4       4\nMale    15         15        15   15      15      15",
      "text/html": "<div>\n<style scoped>\n    .dataframe tbody tr th:only-of-type {\n        vertical-align: middle;\n    }\n\n    .dataframe tbody tr th {\n        vertical-align: top;\n    }\n\n    .dataframe thead th {\n        text-align: right;\n    }\n</style>\n<table border=\"1\" class=\"dataframe\">\n  <thead>\n    <tr style=\"text-align: right;\">\n      <th></th>\n      <th>id</th>\n      <th>firstName</th>\n      <th>lastName</th>\n      <th>age</th>\n      <th>weight</th>\n      <th>height</th>\n    </tr>\n    <tr>\n      <th>gender</th>\n      <th></th>\n      <th></th>\n      <th></th>\n      <th></th>\n      <th></th>\n      <th></th>\n    </tr>\n  </thead>\n  <tbody>\n    <tr>\n      <th>Female</th>\n      <td>4</td>\n      <td>4</td>\n      <td>4</td>\n      <td>4</td>\n      <td>4</td>\n      <td>4</td>\n    </tr>\n    <tr>\n      <th>Male</th>\n      <td>15</td>\n      <td>15</td>\n      <td>15</td>\n      <td>15</td>\n      <td>15</td>\n      <td>15</td>\n    </tr>\n  </tbody>\n</table>\n</div>"
     },
     "execution_count": 9,
     "metadata": {},
     "output_type": "execute_result"
    }
   ],
   "source": [
    "counted = a.count()\n",
    "counted"
   ],
   "metadata": {
    "collapsed": false,
    "ExecuteTime": {
     "start_time": "2023-05-01T12:47:08.846645Z",
     "end_time": "2023-05-01T12:47:08.861780Z"
    }
   }
  },
  {
   "cell_type": "code",
   "execution_count": 10,
   "outputs": [
    {
     "data": {
      "text/plain": "([<matplotlib.patches.Wedge at 0x7ff490504160>,\n  <matplotlib.patches.Wedge at 0x7ff4905041f0>],\n [Text(0.8680545570066952, 0.675633988236168, 'Женщины: 4'),\n  Text(-0.8680544937492721, -0.675634069509298, 'Мужчины: 15')])"
     },
     "execution_count": 10,
     "metadata": {},
     "output_type": "execute_result"
    },
    {
     "data": {
      "text/plain": "<Figure size 640x480 with 1 Axes>",
      "image/png": "[encoded data removed]"
     },
     "metadata": {},
     "output_type": "display_data"
    }
   ],
   "source": [
    "plt.pie(counted.id, labels=['Женщины: ' + str(counted.id[0]), 'Мужчины: ' + str(counted.id[1])])"
   ],
   "metadata": {
    "collapsed": false,
    "ExecuteTime": {
     "start_time": "2023-05-01T12:47:10.419585Z",
     "end_time": "2023-05-01T12:47:10.574437Z"
    }
   }
  },
  {
   "cell_type": "code",
   "execution_count": 11,
   "outputs": [
    {
     "data": {
      "text/plain": "      userId\nexId        \n1         18\n2         13\n3         17\n4         17\n5         16",
      "text/html": "<div>\n<style scoped>\n    .dataframe tbody tr th:only-of-type {\n        vertical-align: middle;\n    }\n\n    .dataframe tbody tr th {\n        vertical-align: top;\n    }\n\n    .dataframe thead th {\n        text-align: right;\n    }\n</style>\n<table border=\"1\" class=\"dataframe\">\n  <thead>\n    <tr style=\"text-align: right;\">\n      <th></th>\n      <th>userId</th>\n    </tr>\n    <tr>\n      <th>exId</th>\n      <th></th>\n    </tr>\n  </thead>\n  <tbody>\n    <tr>\n      <th>1</th>\n      <td>18</td>\n    </tr>\n    <tr>\n      <th>2</th>\n      <td>13</td>\n    </tr>\n    <tr>\n      <th>3</th>\n      <td>17</td>\n    </tr>\n    <tr>\n      <th>4</th>\n      <td>17</td>\n    </tr>\n    <tr>\n      <th>5</th>\n      <td>16</td>\n    </tr>\n  </tbody>\n</table>\n</div>"
     },
     "execution_count": 11,
     "metadata": {},
     "output_type": "execute_result"
    }
   ],
   "source": [
    "df\n",
    "grouped_df = df.groupby('exId').count()\n",
    "grouped_df"
   ],
   "metadata": {
    "collapsed": false,
    "ExecuteTime": {
     "start_time": "2023-05-01T12:47:11.197364Z",
     "end_time": "2023-05-01T12:47:11.208078Z"
    }
   }
  },
  {
   "cell_type": "code",
   "execution_count": 12,
   "outputs": [
    {
     "data": {
      "text/plain": "([<matplotlib.patches.Wedge at 0x7ff4705c82b0>,\n  <matplotlib.patches.Wedge at 0x7ff4904ba100>,\n  <matplotlib.patches.Wedge at 0x7ff4705c8a90>,\n  <matplotlib.patches.Wedge at 0x7ff4705c8f10>,\n  <matplotlib.patches.Wedge at 0x7ff4705d73d0>],\n [Text(0.8426488837530798, 0.7070663750382201, 'Приседания: 22.0'),\n  Text(-0.3561073266401273, 1.040762975856281, 'Отжимания: 16.0'),\n  Text(-1.096692231244855, 0.08524171471281844, ' Прыжки: 21.0'),\n  Text(-0.3561074240833884, -1.0407629425151022, 'Выпады: 21.0'),\n  Text(0.8949072144443122, -0.6396413663417354, ' Пресс: 20.0')])"
     },
     "execution_count": 12,
     "metadata": {},
     "output_type": "execute_result"
    },
    {
     "data": {
      "text/plain": "<Figure size 640x480 with 1 Axes>",
      "image/png": "[encoded data removed]"
     },
     "metadata": {},
     "output_type": "display_data"
    }
   ],
   "source": [
    "plt.pie(grouped_df.userId, labels=['Приседания: ' + str(round(grouped_df.userId[0] / 81, 2) * 100), 'Отжимания: ' + str(round(grouped_df.userId[1] / 81, 2) * 100), ' Прыжки: ' + str(round(grouped_df.userId[2] / 81, 2) * 100), 'Выпады: ' + str(round(grouped_df.userId[3] / 81, 2) * 100), ' Пресс: ' + str(round(grouped_df.userId[4] / 81, 2) * 100)])"
   ],
   "metadata": {
    "collapsed": false,
    "ExecuteTime": {
     "start_time": "2023-05-01T12:47:12.977250Z",
     "end_time": "2023-05-01T12:47:13.083486Z"
    }
   }
  }
 ],
 "metadata": {
  "kernelspec": {
   "display_name": "Python 3",
   "language": "python",
   "name": "python3"
  },
  "language_info": {
   "codemirror_mode": {
    "name": "ipython",
    "version": 2
   },
   "file_extension": ".py",
   "mimetype": "text/x-python",
   "name": "python",
   "nbconvert_exporter": "python",
   "pygments_lexer": "ipython2",
   "version": "2.7.6"
  }
 },
 "nbformat": 4,
 "nbformat_minor": 0
}
